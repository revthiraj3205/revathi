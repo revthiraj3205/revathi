{
 "cells": [
  {
   "cell_type": "code",
   "execution_count": null,
   "metadata": {},
   "outputs": [],
   "source": [
    "import calender\n",
    "a=calendar.HTMLcalendar(firstweek=0)\n",
    "print(a.formatmonth(2009,5))from packages.module import Duplicate\n",
    "Duplicate([1,1,2,3,3])\n"
   ]
  },
  {
   "cell_type": "code",
   "execution_count": null,
   "metadata": {},
   "outputs": [],
   "source": [
    " a=[1,2,2,,3,4,4,5]\n",
    "b=[1,3,5]"
   ]
  },
  {
   "cell_type": "code",
   "execution_count": 1,
   "metadata": {},
   "outputs": [
    {
     "name": "stdout",
     "output_type": "stream",
     "text": [
      "[1, 2, 3]\n"
     ]
    }
   ],
   "source": [
    "from packages.module import Duplicate\n",
    "Duplicate([1,1,2,3,3])\n"
   ]
  },
  {
   "cell_type": "code",
   "execution_count": null,
   "metadata": {},
   "outputs": [],
   "source": [
    "#file handling\n",
    ">used to store information\n",
    ">open file\n",
    ">open(filepath,mode)\n",
    ">with open()\n",
    "      *operations\n",
    "    "
   ]
  },
  {
   "cell_type": "code",
   "execution_count": 19,
   "metadata": {},
   "outputs": [
    {
     "name": "stdout",
     "output_type": "stream",
     "text": [
      "hi......\n"
     ]
    }
   ],
   "source": [
    "#using open()\n",
    "f=open(\"data files/demo.txt\")\n",
    "f1=f.read()\n",
    "print(f1)"
   ]
  },
  {
   "cell_type": "code",
   "execution_count": 9,
   "metadata": {},
   "outputs": [
    {
     "name": "stdout",
     "output_type": "stream",
     "text": [
      "8\n"
     ]
    }
   ],
   "source": [
    "f=open(\"data files/demo.txt\",'w')\n",
    "data=f.write('hi......')\n",
    "f.close()\n",
    "print(data)"
   ]
  },
  {
   "cell_type": "code",
   "execution_count": 10,
   "metadata": {},
   "outputs": [
    {
     "name": "stdout",
     "output_type": "stream",
     "text": [
      "hi......\n"
     ]
    }
   ],
   "source": [
    "with open(\"data files/demo.txt\")as info:\n",
    "    f1=info.read()\n",
    "    print(f1)"
   ]
  },
  {
   "cell_type": "code",
   "execution_count": 4,
   "metadata": {},
   "outputs": [
    {
     "name": "stdout",
     "output_type": "stream",
     "text": [
      "1\n"
     ]
    }
   ],
   "source": [
    "with open(\"data files/demo1.txt\",'w')as info:\n",
    "    f1=info.write('a')\n",
    "    print(f1)"
   ]
  },
  {
   "cell_type": "code",
   "execution_count": 19,
   "metadata": {},
   "outputs": [
    {
     "name": "stdout",
     "output_type": "stream",
     "text": [
      "numbers 23\n"
     ]
    }
   ],
   "source": [
    "f=open(\"data files/char.txt\",'r')\n",
    "f1=f.read().replace(' ','')\n",
    "number=len(f1)\n",
    "print(\"numbers\",number)"
   ]
  },
  {
   "cell_type": "code",
   "execution_count": 21,
   "metadata": {},
   "outputs": [
    {
     "name": "stdout",
     "output_type": "stream",
     "text": [
      "numbers 12\n"
     ]
    }
   ],
   "source": [
    "#multiple lines\n",
    "f=open(\"data files/char.txt\",'r')\n",
    "f1=f.read().split()\n",
    "number=len(f1)\n",
    "print(\"numbers\",number)"
   ]
  },
  {
   "cell_type": "code",
   "execution_count": 22,
   "metadata": {},
   "outputs": [
    {
     "name": "stdout",
     "output_type": "stream",
     "text": [
      "{}\n"
     ]
    }
   ],
   "source": [
    "with open(\"data files/char.txt\",'r')as info:\n",
    "    f1=f.read()\n",
    "    f1=str(dict.fromkeys(f1))\n",
    "    print(f1)"
   ]
  },
  {
   "cell_type": "code",
   "execution_count": 28,
   "metadata": {},
   "outputs": [
    {
     "name": "stdout",
     "output_type": "stream",
     "text": [
      "pythonprogramming\n"
     ]
    }
   ],
   "source": [
    "s=()\n",
    "#f=open(\"data files/char.txt\",'w')\n",
    "f1=open(\"data files/char.txt\",'r')\n",
    "k=f1.read().split()\n",
    "l = \"\"\n",
    "for i in k:\n",
    "    #print(i)\n",
    "    if  i not in l:\n",
    "        l+=i\n",
    "print(l)\n",
    "    \n",
    "    "
   ]
  },
  {
   "cell_type": "code",
   "execution_count": 40,
   "metadata": {},
   "outputs": [
    {
     "name": "stdout",
     "output_type": "stream",
     "text": [
      "['python', 'programming']\n"
     ]
    }
   ],
   "source": [
    "s=[]\n",
    "f1=open(\"data files/char.txt\",'r')\n",
    "k=f1.read().split()\n",
    "for i in k:\n",
    "    if i not in s:\n",
    "        s.append(i)\n",
    "f1.close()\n",
    "print(s)\n",
    "   "
   ]
  },
  {
   "cell_type": "code",
   "execution_count": 41,
   "metadata": {},
   "outputs": [
    {
     "name": "stdout",
     "output_type": "stream",
     "text": [
      "pythonprogramming\n"
     ]
    }
   ],
   "source": [
    "s=\"\"\n",
    "count=0\n",
    "f1=open(\"data files/char.txt\",'r')\n",
    "k=f1.read().split()\n",
    "for i in k:\n",
    "    if i not in s:\n",
    "        s+=i\n",
    "        count=count+1\n",
    "f1.close()\n",
    "print(s)\n",
    "   "
   ]
  },
  {
   "cell_type": "code",
   "execution_count": null,
   "metadata": {},
   "outputs": [],
   "source": [
    "if i not in s:\n",
    "        f.write(line)\n",
    "        s.add(line)\n",
    "        s.close()\n",
    "        \n",
    "if i not in s:\n",
    "        f.write(line)\n",
    "        s.add(line)\n",
    "        s.close()"
   ]
  }
 ],
 "metadata": {
  "kernelspec": {
   "display_name": "Python 3",
   "language": "python",
   "name": "python3"
  },
  "language_info": {
   "codemirror_mode": {
    "name": "ipython",
    "version": 3
   },
   "file_extension": ".py",
   "mimetype": "text/x-python",
   "name": "python",
   "nbconvert_exporter": "python",
   "pygments_lexer": "ipython3",
   "version": "3.8.5"
  }
 },
 "nbformat": 4,
 "nbformat_minor": 4
}
