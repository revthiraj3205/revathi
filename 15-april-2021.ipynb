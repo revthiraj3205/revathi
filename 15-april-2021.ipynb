{
 "cells": [
  {
   "cell_type": "code",
   "execution_count": 1,
   "metadata": {},
   "outputs": [
    {
     "name": "stdout",
     "output_type": "stream",
     "text": [
      "5\n",
      "9\n",
      "14\n"
     ]
    }
   ],
   "source": [
    "#dynamic variable declaration\n",
    "a=int(input())\n",
    "b=int(input())\n",
    "c=a+b\n",
    "print(c)\n"
   ]
  },
  {
   "cell_type": "code",
   "execution_count": 1,
   "metadata": {},
   "outputs": [
    {
     "name": "stdout",
     "output_type": "stream",
     "text": [
      "5\n",
      "6\n",
      "11.0\n"
     ]
    }
   ],
   "source": [
    "#conersion of int to fla=int(input())\n",
    "a=float(input())\n",
    "b=float(input())\n",
    "c=a+b\n",
    "print(c)\n"
   ]
  },
  {
   "cell_type": "code",
   "execution_count": 2,
   "metadata": {},
   "outputs": [
    {
     "name": "stdout",
     "output_type": "stream",
     "text": [
      "vignan\n",
      "welcome to vignan\n"
     ]
    }
   ],
   "source": [
    "v= input()\n",
    "print(\"welcome to\",v)"
   ]
  },
  {
   "cell_type": "code",
   "execution_count": 6,
   "metadata": {},
   "outputs": [
    {
     "name": "stdout",
     "output_type": "stream",
     "text": [
      "fgsg\n",
      "welcome to fgsg\n"
     ]
    }
   ],
   "source": [
    "v= input()\n",
    "print(\"welcome to \" +v)"
   ]
  },
  {
   "cell_type": "code",
   "execution_count": 7,
   "metadata": {},
   "outputs": [
    {
     "data": {
      "text/plain": [
       "10"
      ]
     },
     "execution_count": 7,
     "metadata": {},
     "output_type": "execute_result"
    }
   ],
   "source": [
    "#single line comment line\n",
    "'''python programin'''\n",
    "a=10\n",
    "a"
   ]
  },
  {
   "cell_type": "code",
   "execution_count": null,
   "metadata": {},
   "outputs": [
    {
     "name": "stdout",
     "output_type": "stream",
     "text": [
      "\n",
      "Welcome to Python 3.8's help utility!\n",
      "\n",
      "If this is your first time using Python, you should definitely check out\n",
      "the tutorial on the Internet at https://docs.python.org/3.8/tutorial/.\n",
      "\n",
      "Enter the name of any module, keyword, or topic to get help on writing\n",
      "Python programs and using Python modules.  To quit this help utility and\n",
      "return to the interpreter, just type \"quit\".\n",
      "\n",
      "To get a list of available modules, keywords, symbols, or topics, type\n",
      "\"modules\", \"keywords\", \"symbols\", or \"topics\".  Each module also comes\n",
      "with a one-line summary of what it does; to list the modules whose name\n",
      "or summary contain a given string such as \"spam\", type \"modules spam\".\n",
      "\n",
      "help> print\n",
      "Help on built-in function print in module builtins:\n",
      "\n",
      "print(...)\n",
      "    print(value, ..., sep=' ', end='\\n', file=sys.stdout, flush=False)\n",
      "    \n",
      "    Prints the values to a stream, or to sys.stdout by default.\n",
      "    Optional keyword arguments:\n",
      "    file:  a file-like object (stream); defaults to the current sys.stdout.\n",
      "    sep:   string inserted between values, default a space.\n",
      "    end:   string appended after the last value, default a newline.\n",
      "    flush: whether to forcibly flush the stream.\n",
      "\n",
      "help> keywords\n",
      "\n",
      "Here is a list of the Python keywords.  Enter any keyword to get more help.\n",
      "\n",
      "False               class               from                or\n",
      "None                continue            global              pass\n",
      "True                def                 if                  raise\n",
      "and                 del                 import              return\n",
      "as                  elif                in                  try\n",
      "assert              else                is                  while\n",
      "async               except              lambda              with\n",
      "await               finally             nonlocal            yield\n",
      "break               for                 not                 \n",
      "\n",
      "help> modules\n",
      "\n",
      "Please wait a moment while I gather a list of all available modules...\n",
      "\n"
     ]
    },
    {
     "name": "stderr",
     "output_type": "stream",
     "text": [
      "D:\\Anaconada\\lib\\site-packages\\IPython\\kernel\\__init__.py:12: ShimWarning: The `IPython.kernel` package has been deprecated since IPython 4.0.You should import from ipykernel or jupyter_client instead.\n",
      "  warn(\"The `IPython.kernel` package has been deprecated since IPython 4.0.\"\n",
      "Matplotlib is building the font cache; this may take a moment.\n",
      "D:\\Anaconada\\lib\\pkgutil.py:92: MatplotlibDeprecationWarning: \n",
      "The matplotlib.compat module was deprecated in Matplotlib 3.3 and will be removed two minor releases later.\n",
      "  __import__(info.name)\n",
      "D:\\Anaconada\\lib\\site-packages\\nltk\\twitter\\__init__.py:21: UserWarning: The twython library has not been installed. Some functionality from the twitter package will not be available.\n",
      "  warnings.warn(\n",
      "D:\\Anaconada\\lib\\site-packages\\skimage\\viewer\\utils\\__init__.py:1: UserWarning: Recommended matplotlib backend is `Agg` for full skimage.viewer functionality.\n",
      "  from .core import *\n"
     ]
    },
    {
     "name": "stdout",
     "output_type": "stream",
     "text": [
      "Update LANGUAGE_CODES (inside config/base.py) if a new translation has been added to Spyder\n"
     ]
    },
    {
     "name": "stderr",
     "output_type": "stream",
     "text": [
      "D:\\Anaconada\\lib\\site-packages\\qtawesome\\iconic_font.py:311: UserWarning: You need to have a running QApplication to use QtAwesome!\n",
      "  warnings.warn(\"You need to have a running \"\n",
      "D:\\Anaconada\\lib\\pkgutil.py:107: VisibleDeprecationWarning: zmq.eventloop.minitornado is deprecated in pyzmq 14.0 and will be removed.\n",
      "    Install tornado itself to use zmq with the tornado IOLoop.\n",
      "    \n",
      "  yield from walk_packages(path, info.name+'.', onerror)\n"
     ]
    },
    {
     "name": "stdout",
     "output_type": "stream",
     "text": [
      "Cython              brain_responses     markupsafe          socket\n",
      "IPython             brain_scipy_signal  marshal             socketserver\n",
      "OpenSSL             brain_six           math                socks\n",
      "PIL                 brain_ssl           matplotlib          sockshandler\n",
      "PyQt5               brain_subprocess    mccabe              sortedcollections\n",
      "__future__          brain_threading     menuinst            sortedcontainers\n",
      "_abc                brain_typing        mimetypes           soupsieve\n",
      "_ast                brain_uuid          mistune             sphinx\n",
      "_asyncio            brotli              mkl                 sphinxcontrib\n",
      "_bisect             bs4                 mkl_fft             spyder\n",
      "_blake2             builtins            mkl_random          spyder_kernels\n",
      "_bootlocale         bz2                 mmap                sqlalchemy\n",
      "_bz2                cProfile            mmapfile            sqlite3\n",
      "_cffi_backend       calendar            mmsystem            sre_compile\n",
      "_codecs             certifi             mock                sre_constants\n",
      "_codecs_cn          cffi                modulefinder        sre_parse\n",
      "_codecs_hk          cgi                 more_itertools      ssl\n",
      "_codecs_iso2022     cgitb               mpmath              sspi\n",
      "_codecs_jp          chardet             msgpack             sspicon\n",
      "_codecs_kr          chunk               msilib              stat\n",
      "_codecs_tw          click               msvcrt              statistics\n",
      "_collections        cloudpickle         multipledispatch    statsmodels\n",
      "_collections_abc    clyent              multiprocessing     storemagic\n",
      "_compat_pickle      cmath               nacl                string\n",
      "_compression        cmd                 navigator_updater   stringprep\n",
      "_contextvars        code                nbclient            struct\n",
      "_csv                codecs              nbconvert           subprocess\n",
      "_ctypes             codeop              nbformat            sunau\n",
      "_ctypes_test        collections         nest_asyncio        symbol\n",
      "_datetime           colorama            netbios             sympy\n",
      "_decimal            colorsys            netrc               sympyprinting\n",
      "_distutils_hack     commctrl            networkx            symtable\n",
      "_dummy_thread       compileall          nltk                sys\n",
      "_elementtree        comtypes            nntplib             sysconfig\n",
      "_functools          concurrent          nose                tables\n",
      "_hashlib            conda               notebook            tabnanny\n",
      "_heapq              conda_build         nt                  tarfile\n",
      "_imp                conda_env           ntpath              tblib\n",
      "_io                 conda_package_handling ntsecuritycon       telnetlib\n",
      "_json               conda_verify        nturl2path          tempfile\n",
      "_locale             configparser        numba               terminado\n",
      "_lsprof             contextlib          numbers             test\n",
      "_lzma               contextlib2         numexpr             test_data\n",
      "_markupbase         contextvars         numpy               test_pycosat\n",
      "_md5                copy                numpydoc            testpath\n",
      "_msi                copyreg             odbc                tests\n",
      "_multibytecodec     crypt               olefile             textwrap\n",
      "_multiprocessing    cryptography        opcode              this\n",
      "_nsis               csv                 openpyxl            threading\n",
      "_opcode             ctypes              operator            threadpoolctl\n",
      "_operator           curl                optparse            time\n",
      "_osx_support        curses              os                  timeit\n",
      "_overlapped         cwp                 packaging           timer\n",
      "_pickle             cycler              pandas              tkinter\n",
      "_py_abc             cython              pandocfilters       tlz\n",
      "_pydecimal          cythonmagic         paramiko            token\n",
      "_pyio               cytoolz             parser              tokenize\n",
      "_pyrsistent_version dask                parso               toml\n",
      "_pytest             dataclasses         partd               toolz\n",
      "_queue              datetime            past                tornado\n",
      "_random             dateutil            path                tqdm\n",
      "_sha1               dbi                 pathlib             trace\n",
      "_sha256             dbm                 pathlib2            traceback\n",
      "_sha3               dde                 pathtools           tracemalloc\n",
      "_sha512             decimal             patsy               traitlets\n",
      "_signal             decorator           pdb                 tty\n",
      "_sitebuiltins       defusedxml          pep8                turtle\n",
      "_socket             diff_match_patch    perfmon             turtledemo\n",
      "_sqlite3            difflib             pexpect             types\n",
      "_sre                dis                 pickle              typing\n",
      "_ssl                distributed         pickleshare         typing_extensions\n",
      "_stat               distutils           pickletools         ujson\n",
      "_statistics         doctest             pip                 unicodecsv\n",
      "_string             docutils            pipes               unicodedata\n",
      "_strptime           dummy_threading     pkg_resources       unittest\n",
      "_struct             easy_install        pkginfo             urllib\n",
      "_symtable           email               pkgutil             urllib3\n",
      "_system_path        encodings           platform            uu\n",
      "_testbuffer         ensurepip           plistlib            uuid\n",
      "_testcapi           entrypoints         pluggy              venv\n",
      "_testconsole        enum                ply                 warnings\n",
      "_testimportmultiple errno               poplib              watchdog\n",
      "_testinternalcapi   et_xmlfile          posixpath           wave\n",
      "_testmultiphase     fastcache           pprint              wcwidth\n",
      "_thread             faulthandler        profile             weakref\n",
      "_threading_local    file                prometheus_client   webbrowser\n",
      "_tkinter            filecmp             prompt_toolkit      webencodings\n",
      "_tracemalloc        fileinput           pstats              werkzeug\n",
      "_warnings           filelock            psutil              wheel\n",
      "_weakref            flake8              pty                 widgetsnbextension\n",
      "_weakrefset         flask               pvectorc            win2kras\n",
      "_win32sysloader     fnmatch             py                  win32api\n",
      "_winapi             formatter           py_compile          win32clipboard\n",
      "_winxptheme         fractions           pyclbr              win32com\n",
      "_xxsubinterpreters  fsspec              pycodestyle         win32con\n",
      "_yaml               ftplib              pycosat             win32console\n",
      "abc                 functools           pycparser           win32cred\n",
      "adodbapi            future              pycurl              win32crypt\n",
      "afxres              gc                  pydoc               win32cryptcon\n",
      "aifc                genericpath         pydoc_data          win32ctypes\n",
      "alabaster           getopt              pydocstyle          win32event\n",
      "anaconda_navigator  getpass             pyexpat             win32evtlog\n",
      "anaconda_project    gettext             pyflakes            win32evtlogutil\n",
      "antigravity         gevent              pygments            win32file\n",
      "argh                glob                pylab               win32gui\n",
      "argon2              glob2               pylint              win32gui_struct\n",
      "argparse            greenlet            pyls                win32help\n",
      "array               gzip                pyls_jsonrpc        win32inet\n",
      "asn1crypto          h5py                pyodbc              win32inetcon\n",
      "ast                 hashlib             pyparsing           win32job\n",
      "astroid             heapdict            pyreadline          win32lz\n",
      "astropy             heapq               pyrsistent          win32net\n",
      "async_generator     hmac                pytest              win32netcon\n",
      "asynchat            html                pythoncom           win32pdh\n",
      "asyncio             html5lib            pytz                win32pdhquery\n",
      "asyncore            http                pywin               win32pdhutil\n",
      "atexit              idlelib             pywin32_bootstrap   win32pipe\n",
      "atomicwrites        idna                pywin32_testutil    win32print\n",
      "attr                imageio             pywintypes          win32process\n",
      "audioop             imagesize           pywt                win32profile\n",
      "autopep8            imaplib             pyximport           win32ras\n",
      "autoreload          imghdr              qdarkstyle          win32rcparser\n",
      "babel               imp                 qtawesome           win32security\n",
      "backcall            importlib           qtconsole           win32service\n",
      "backports           importlib_metadata  qtpy                win32serviceutil\n",
      "base64              iniconfig           queue               win32timezone\n",
      "bcrypt              inspect             quopri              win32trace\n",
      "bdb                 intervaltree        random              win32traceutil\n",
      "binascii            io                  rasutil             win32transaction\n",
      "binhex              ipaddress           re                  win32ts\n",
      "binstar_client      ipykernel           readline            win32ui\n",
      "bisect              ipykernel_launcher  regcheck            win32uiole\n",
      "bitarray            ipython_genutils    regex               win32verstamp\n",
      "bkcharts            ipywidgets          regutil             win32wnet\n",
      "bleach              isapi               reprlib             win_inet_pton\n",
      "bokeh               isort               requests            win_unicode_console\n",
      "boto                isympy              rlcompleter         wincertstore\n",
      "bottleneck          itertools           rmagic              winerror\n",
      "brain_argparse      itsdangerous        rope                winioctlcon\n",
      "brain_attrs         jdcal               rtree               winnt\n",
      "brain_boto3         jedi                ruamel_yaml         winperf\n",
      "brain_builtin_inference jinja2              run                 winpty\n",
      "brain_collections   joblib              runpy               winreg\n",
      "brain_crypt         json                sched               winsound\n",
      "brain_curses        json5               scipy               winxpgui\n",
      "brain_dataclasses   jsonschema          scripts             winxptheme\n",
      "brain_dateutil      jupyter             seaborn             wrapt\n",
      "brain_fstrings      jupyter_client      secrets             wsgiref\n",
      "brain_functools     jupyter_console     select              xdrlib\n",
      "brain_gi            jupyter_core        selectors           xlrd\n",
      "brain_hashlib       jupyterlab          send2trash          xlsxwriter\n",
      "brain_http          jupyterlab_pygments servicemanager      xlwings\n",
      "brain_io            jupyterlab_server   setuptools          xlwt\n",
      "brain_mechanize     keyring             shelve              xml\n",
      "brain_multiprocessing keyword             shlex               xmlrpc\n",
      "brain_namedtuple_enum kiwisolver          shutil              xmltodict\n",
      "brain_nose          lazy_object_proxy   signal              xxsubtype\n",
      "brain_numpy_core_fromnumeric lib2to3             simplegeneric       yaml\n",
      "brain_numpy_core_function_base libarchive          singledispatch      yapf\n",
      "brain_numpy_core_multiarray libfuturize         singledispatch_helpers yapftests\n",
      "brain_numpy_core_numeric libpasteurize       sip                 zict\n",
      "brain_numpy_core_numerictypes lief                sipconfig           zipapp\n",
      "brain_numpy_core_umath linecache           sipdistutils        zipfile\n",
      "brain_numpy_ndarray llvmlite            site                zipimport\n",
      "brain_numpy_random_mtrand locale              six                 zipp\n",
      "brain_numpy_utils   locket              skimage             zlib\n",
      "brain_pkg_resources logging             sklearn             zmq\n",
      "brain_pytest        lxml                smtpd               zope\n",
      "brain_qt            lzma                smtplib             \n",
      "brain_random        mailbox             sndhdr              \n",
      "brain_re            mailcap             snowballstemmer     \n",
      "\n",
      "Enter any module name to get more help.  Or, type \"modules spam\" to search\n",
      "for modules whose name or summary contain the string \"spam\".\n",
      "\n"
     ]
    }
   ],
   "source": [
    "help()\n"
   ]
  },
  {
   "cell_type": "code",
   "execution_count": 2,
   "metadata": {},
   "outputs": [
    {
     "data": {
      "text/plain": [
       "True"
      ]
     },
     "execution_count": 2,
     "metadata": {},
     "output_type": "execute_result"
    }
   ],
   "source": [
    "import webbrowser\n",
    "webbrowser.open('http://gmail.com/')"
   ]
  },
  {
   "cell_type": "code",
   "execution_count": 1,
   "metadata": {},
   "outputs": [
    {
     "data": {
      "text/plain": [
       "'Thu Apr 15 12:25:29 2021'"
      ]
     },
     "execution_count": 1,
     "metadata": {},
     "output_type": "execute_result"
    }
   ],
   "source": [
    "import time\n",
    "time.ctime()"
   ]
  },
  {
   "cell_type": "code",
   "execution_count": 3,
   "metadata": {},
   "outputs": [
    {
     "data": {
      "text/plain": [
       "['a', 'b']"
      ]
     },
     "execution_count": 3,
     "metadata": {},
     "output_type": "execute_result"
    }
   ],
   "source": [
    "l=['a','b']\n",
    "l"
   ]
  },
  {
   "cell_type": "code",
   "execution_count": 4,
   "metadata": {},
   "outputs": [
    {
     "data": {
      "text/plain": [
       "list"
      ]
     },
     "execution_count": 4,
     "metadata": {},
     "output_type": "execute_result"
    }
   ],
   "source": [
    "l=['a']\n",
    "type(l)"
   ]
  },
  {
   "cell_type": "code",
   "execution_count": 1,
   "metadata": {},
   "outputs": [
    {
     "ename": "SyntaxError",
     "evalue": "can't use starred expression here (<ipython-input-1-5f4b396f3200>, line 2)",
     "output_type": "error",
     "traceback": [
      "\u001b[1;36m  File \u001b[1;32m\"<ipython-input-1-5f4b396f3200>\"\u001b[1;36m, line \u001b[1;32m2\u001b[0m\n\u001b[1;33m    * arithmetic\u001b[0m\n\u001b[1;37m    ^\u001b[0m\n\u001b[1;31mSyntaxError\u001b[0m\u001b[1;31m:\u001b[0m can't use starred expression here\n"
     ]
    }
   ],
   "source": [
    "#operators in python\n",
    "* arithmetic\n",
    "* assignment\n",
    "* logical\n",
    "* comparision\n",
    "* membership\n",
    "* identity\n",
    "* bitwise"
   ]
  },
  {
   "cell_type": "code",
   "execution_count": 2,
   "metadata": {},
   "outputs": [
    {
     "data": {
      "text/plain": [
       "25"
      ]
     },
     "execution_count": 2,
     "metadata": {},
     "output_type": "execute_result"
    }
   ],
   "source": [
    "#addition\n",
    "a=10\n",
    "b=15\n",
    "c=a+b\n",
    "c"
   ]
  },
  {
   "cell_type": "code",
   "execution_count": null,
   "metadata": {},
   "outputs": [],
   "source": [
    "##### subtraction\n",
    "a=int(input())\n",
    "b=int(input())\n",
    "c=a-b\n",
    "print(c)"
   ]
  },
  {
   "cell_type": "code",
   "execution_count": null,
   "metadata": {},
   "outputs": [
    {
     "name": "stdout",
     "output_type": "stream",
     "text": [
      "10\n"
     ]
    }
   ],
   "source": [
    "a=int(input())\n",
    "b=int(input())\n",
    "c=a-b\n",
    "print(c)"
   ]
  },
  {
   "cell_type": "code",
   "execution_count": 1,
   "metadata": {},
   "outputs": [
    {
     "name": "stdout",
     "output_type": "stream",
     "text": [
      "10\n",
      "5\n",
      "50\n"
     ]
    }
   ],
   "source": [
    "a=int(input())\n",
    "b=int(input())\n",
    "c=a*b\n",
    "print(c)"
   ]
  },
  {
   "cell_type": "code",
   "execution_count": 2,
   "metadata": {},
   "outputs": [
    {
     "name": "stdout",
     "output_type": "stream",
     "text": [
      "10\n",
      "5\n",
      "0\n"
     ]
    }
   ],
   "source": [
    "a=int(input())\n",
    "b=int(input())\n",
    "c=a%b\n",
    "print(c)"
   ]
  },
  {
   "cell_type": "code",
   "execution_count": 3,
   "metadata": {},
   "outputs": [
    {
     "name": "stdout",
     "output_type": "stream",
     "text": [
      "10\n",
      "15\n",
      "0.6666666666666666\n"
     ]
    }
   ],
   "source": [
    "a=int(input())\n",
    "b=int(input())\n",
    "c=a/b\n",
    "print(c)"
   ]
  },
  {
   "cell_type": "code",
   "execution_count": 4,
   "metadata": {},
   "outputs": [
    {
     "name": "stdout",
     "output_type": "stream",
     "text": [
      "10\n",
      "5\n",
      "2.0\n"
     ]
    }
   ],
   "source": [
    "a=int(input())\n",
    "b=int(input())\n",
    "c=a/b\n",
    "print(c)"
   ]
  },
  {
   "cell_type": "code",
   "execution_count": 5,
   "metadata": {},
   "outputs": [
    {
     "name": "stdout",
     "output_type": "stream",
     "text": [
      "True\n"
     ]
    }
   ],
   "source": [
    "#comparision operators\n",
    "a=15\n",
    "b=20\n",
    "print(a<b)"
   ]
  },
  {
   "cell_type": "code",
   "execution_count": 6,
   "metadata": {},
   "outputs": [
    {
     "name": "stdout",
     "output_type": "stream",
     "text": [
      "False\n"
     ]
    }
   ],
   "source": [
    "a=15\n",
    "b=20\n",
    "print(a>b)"
   ]
  },
  {
   "cell_type": "code",
   "execution_count": 7,
   "metadata": {},
   "outputs": [
    {
     "name": "stdout",
     "output_type": "stream",
     "text": [
      "False\n"
     ]
    }
   ],
   "source": [
    "a=15\n",
    "b=20\n",
    "print(a==b)"
   ]
  },
  {
   "cell_type": "code",
   "execution_count": 8,
   "metadata": {},
   "outputs": [
    {
     "name": "stdout",
     "output_type": "stream",
     "text": [
      "True\n"
     ]
    }
   ],
   "source": [
    "a=15\n",
    "b=20\n",
    "print(a!=b)"
   ]
  },
  {
   "cell_type": "code",
   "execution_count": 9,
   "metadata": {},
   "outputs": [
    {
     "name": "stdout",
     "output_type": "stream",
     "text": [
      "True\n"
     ]
    }
   ],
   "source": [
    "a=15\n",
    "b=20\n",
    "print(a<=b)"
   ]
  },
  {
   "cell_type": "code",
   "execution_count": 10,
   "metadata": {},
   "outputs": [
    {
     "name": "stdout",
     "output_type": "stream",
     "text": [
      "False\n"
     ]
    }
   ],
   "source": [
    "a=15\n",
    "b=20\n",
    "print(a>=b)"
   ]
  },
  {
   "cell_type": "code",
   "execution_count": 24,
   "metadata": {},
   "outputs": [
    {
     "ename": "SyntaxError",
     "evalue": "invalid syntax (<ipython-input-24-7eade0012880>, line 5)",
     "output_type": "error",
     "traceback": [
      "\u001b[1;36m  File \u001b[1;32m\"<ipython-input-24-7eade0012880>\"\u001b[1;36m, line \u001b[1;32m5\u001b[0m\n\u001b[1;33m    if a not b not c:\u001b[0m\n\u001b[1;37m             ^\u001b[0m\n\u001b[1;31mSyntaxError\u001b[0m\u001b[1;31m:\u001b[0m invalid syntax\n"
     ]
    }
   ],
   "source": [
    "#logical operators\n",
    "a=10\n",
    "b=15\n",
    "c=20\n",
    "if a not b not c:\n",
    "    print('all values have bolean')\n",
    "else:\n",
    "    print('atleast one value is boolean')"
   ]
  },
  {
   "cell_type": "code",
   "execution_count": 14,
   "metadata": {},
   "outputs": [
    {
     "name": "stdout",
     "output_type": "stream",
     "text": [
      "all values have bolean\n"
     ]
    }
   ],
   "source": [
    "a=10\n",
    "b=15\n",
    "c=20\n",
    "if a and b and c:\n",
    "    print('all values have bolean')\n",
    "else:\n",
    "    print('atleast one value is boolean')"
   ]
  },
  {
   "cell_type": "code",
   "execution_count": 16,
   "metadata": {},
   "outputs": [
    {
     "name": "stdout",
     "output_type": "stream",
     "text": [
      "atleast one value is boolean\n"
     ]
    }
   ],
   "source": [
    "a=0\n",
    "b=15\n",
    "c=20\n",
    "if a and b and c:\n",
    "    print('all values have bolean')\n",
    "else:\n",
    "    print('atleast one value is boolean')"
   ]
  },
  {
   "cell_type": "code",
   "execution_count": 17,
   "metadata": {},
   "outputs": [
    {
     "name": "stdout",
     "output_type": "stream",
     "text": [
      "25\n"
     ]
    }
   ],
   "source": [
    "#assignment operators\n",
    "x=20\n",
    "x+=5\n",
    "print(x)"
   ]
  },
  {
   "cell_type": "code",
   "execution_count": 18,
   "metadata": {},
   "outputs": [
    {
     "name": "stdout",
     "output_type": "stream",
     "text": [
      "0\n"
     ]
    }
   ],
   "source": [
    "x=20\n",
    "x%=5\n",
    "print(x)"
   ]
  },
  {
   "cell_type": "code",
   "execution_count": 19,
   "metadata": {},
   "outputs": [
    {
     "name": "stdout",
     "output_type": "stream",
     "text": [
      "4.0\n"
     ]
    }
   ],
   "source": [
    "x=20\n",
    "x/=5\n",
    "print(x)"
   ]
  },
  {
   "cell_type": "code",
   "execution_count": 20,
   "metadata": {},
   "outputs": [
    {
     "name": "stdout",
     "output_type": "stream",
     "text": [
      "100\n"
     ]
    }
   ],
   "source": [
    "x=20\n",
    "x*=5\n",
    "print(x)"
   ]
  },
  {
   "cell_type": "code",
   "execution_count": 21,
   "metadata": {},
   "outputs": [
    {
     "name": "stdout",
     "output_type": "stream",
     "text": [
      "False\n"
     ]
    }
   ],
   "source": [
    "print(x<10)"
   ]
  },
  {
   "cell_type": "code",
   "execution_count": 22,
   "metadata": {},
   "outputs": [
    {
     "name": "stdout",
     "output_type": "stream",
     "text": [
      "False\n"
     ]
    }
   ],
   "source": [
    "print(x<30)"
   ]
  },
  {
   "cell_type": "code",
   "execution_count": 23,
   "metadata": {},
   "outputs": [
    {
     "name": "stdout",
     "output_type": "stream",
     "text": [
      "True\n"
     ]
    }
   ],
   "source": [
    "print(x<200)"
   ]
  },
  {
   "cell_type": "code",
   "execution_count": 25,
   "metadata": {},
   "outputs": [
    {
     "data": {
      "text/plain": [
       "True"
      ]
     },
     "execution_count": 25,
     "metadata": {},
     "output_type": "execute_result"
    }
   ],
   "source": [
    "#membership(in,notin)\n",
    "a=[1,2,3,4]\n",
    "1 in a"
   ]
  },
  {
   "cell_type": "code",
   "execution_count": 26,
   "metadata": {},
   "outputs": [
    {
     "data": {
      "text/plain": [
       "False"
      ]
     },
     "execution_count": 26,
     "metadata": {},
     "output_type": "execute_result"
    }
   ],
   "source": [
    "a=[1,2,3,4]\n",
    "7 in a"
   ]
  },
  {
   "cell_type": "code",
   "execution_count": 28,
   "metadata": {},
   "outputs": [
    {
     "data": {
      "text/plain": [
       "True"
      ]
     },
     "execution_count": 28,
     "metadata": {},
     "output_type": "execute_result"
    }
   ],
   "source": [
    "a=[1,2,3,4]\n",
    "7 not in a"
   ]
  },
  {
   "cell_type": "code",
   "execution_count": 29,
   "metadata": {},
   "outputs": [
    {
     "data": {
      "text/plain": [
       "False"
      ]
     },
     "execution_count": 29,
     "metadata": {},
     "output_type": "execute_result"
    }
   ],
   "source": [
    "#identity operators(>>,<</is,is not)\n",
    "a=5\n",
    "b=10\n",
    "a is b\n"
   ]
  },
  {
   "cell_type": "code",
   "execution_count": 30,
   "metadata": {},
   "outputs": [
    {
     "data": {
      "text/plain": [
       "True"
      ]
     },
     "execution_count": 30,
     "metadata": {},
     "output_type": "execute_result"
    }
   ],
   "source": [
    "a=5\n",
    "b=10\n",
    "a is not b"
   ]
  },
  {
   "cell_type": "code",
   "execution_count": 32,
   "metadata": {},
   "outputs": [
    {
     "data": {
      "text/plain": [
       "14"
      ]
     },
     "execution_count": 32,
     "metadata": {},
     "output_type": "execute_result"
    }
   ],
   "source": [
    "#bitwise operators(&,|,<<,>>)\n",
    "a=10\n",
    "b=4\n",
    "a&b\n",
    "a|b\n",
    "~a\n",
    "a^b"
   ]
  },
  {
   "cell_type": "code",
   "execution_count": 33,
   "metadata": {},
   "outputs": [
    {
     "data": {
      "text/plain": [
       "0"
      ]
     },
     "execution_count": 33,
     "metadata": {},
     "output_type": "execute_result"
    }
   ],
   "source": [
    "a=10\n",
    "b=4\n",
    "a&b"
   ]
  },
  {
   "cell_type": "code",
   "execution_count": 34,
   "metadata": {},
   "outputs": [
    {
     "data": {
      "text/plain": [
       "14"
      ]
     },
     "execution_count": 34,
     "metadata": {},
     "output_type": "execute_result"
    }
   ],
   "source": [
    "a=10\n",
    "b=4\n",
    "a|b"
   ]
  },
  {
   "cell_type": "code",
   "execution_count": 35,
   "metadata": {},
   "outputs": [
    {
     "data": {
      "text/plain": [
       "-11"
      ]
     },
     "execution_count": 35,
     "metadata": {},
     "output_type": "execute_result"
    }
   ],
   "source": [
    "a=10\n",
    "b=4\n",
    "~a"
   ]
  },
  {
   "cell_type": "code",
   "execution_count": 36,
   "metadata": {},
   "outputs": [
    {
     "data": {
      "text/plain": [
       "160"
      ]
     },
     "execution_count": 36,
     "metadata": {},
     "output_type": "execute_result"
    }
   ],
   "source": [
    "a=10\n",
    "b=4\n",
    "a<<b"
   ]
  },
  {
   "cell_type": "code",
   "execution_count": 37,
   "metadata": {},
   "outputs": [
    {
     "data": {
      "text/plain": [
       "0"
      ]
     },
     "execution_count": 37,
     "metadata": {},
     "output_type": "execute_result"
    }
   ],
   "source": [
    "a=10\n",
    "b=4\n",
    "a>>b"
   ]
  },
  {
   "cell_type": "code",
   "execution_count": 38,
   "metadata": {},
   "outputs": [
    {
     "data": {
      "text/plain": [
       "'0b111'"
      ]
     },
     "execution_count": 38,
     "metadata": {},
     "output_type": "execute_result"
    }
   ],
   "source": [
    "bin(7)"
   ]
  },
  {
   "cell_type": "code",
   "execution_count": 39,
   "metadata": {},
   "outputs": [
    {
     "data": {
      "text/plain": [
       "'0b1110'"
      ]
     },
     "execution_count": 39,
     "metadata": {},
     "output_type": "execute_result"
    }
   ],
   "source": [
    "bin(14)"
   ]
  },
  {
   "cell_type": "code",
   "execution_count": 40,
   "metadata": {},
   "outputs": [
    {
     "data": {
      "text/plain": [
       "11"
      ]
     },
     "execution_count": 40,
     "metadata": {},
     "output_type": "execute_result"
    }
   ],
   "source": [
    "10|11"
   ]
  },
  {
   "cell_type": "code",
   "execution_count": 41,
   "metadata": {},
   "outputs": [
    {
     "data": {
      "text/plain": [
       "6"
      ]
     },
     "execution_count": 41,
     "metadata": {},
     "output_type": "execute_result"
    }
   ],
   "source": [
    "7&14"
   ]
  },
  {
   "cell_type": "code",
   "execution_count": 43,
   "metadata": {},
   "outputs": [
    {
     "data": {
      "text/plain": [
       "'0b101'"
      ]
     },
     "execution_count": 43,
     "metadata": {},
     "output_type": "execute_result"
    }
   ],
   "source": [
    "bin(5)"
   ]
  },
  {
   "cell_type": "code",
   "execution_count": 44,
   "metadata": {},
   "outputs": [
    {
     "data": {
      "text/plain": [
       "32"
      ]
     },
     "execution_count": 44,
     "metadata": {},
     "output_type": "execute_result"
    }
   ],
   "source": [
    "a=4\n",
    "b=3\n",
    "a<<b"
   ]
  },
  {
   "cell_type": "code",
   "execution_count": 45,
   "metadata": {},
   "outputs": [
    {
     "data": {
      "text/plain": [
       "'0b100'"
      ]
     },
     "execution_count": 45,
     "metadata": {},
     "output_type": "execute_result"
    }
   ],
   "source": [
    "bin(4)"
   ]
  },
  {
   "cell_type": "code",
   "execution_count": 46,
   "metadata": {},
   "outputs": [
    {
     "data": {
      "text/plain": [
       "64"
      ]
     },
     "execution_count": 46,
     "metadata": {},
     "output_type": "execute_result"
    }
   ],
   "source": [
    "a=4\n",
    "a<<4"
   ]
  },
  {
   "cell_type": "code",
   "execution_count": 47,
   "metadata": {},
   "outputs": [
    {
     "data": {
      "text/plain": [
       "256"
      ]
     },
     "execution_count": 47,
     "metadata": {},
     "output_type": "execute_result"
    }
   ],
   "source": [
    "a<<6"
   ]
  },
  {
   "cell_type": "code",
   "execution_count": 48,
   "metadata": {},
   "outputs": [
    {
     "data": {
      "text/plain": [
       "'0b110'"
      ]
     },
     "execution_count": 48,
     "metadata": {},
     "output_type": "execute_result"
    }
   ],
   "source": [
    "bin(6)"
   ]
  },
  {
   "cell_type": "code",
   "execution_count": null,
   "metadata": {},
   "outputs": [],
   "source": [
    "#conditional statements\n",
    "if condition:\n",
    "    statement"
   ]
  },
  {
   "cell_type": "code",
   "execution_count": 1,
   "metadata": {},
   "outputs": [
    {
     "name": "stdout",
     "output_type": "stream",
     "text": [
      "10\n"
     ]
    }
   ],
   "source": [
    "n=10\n",
    "if n>0:\n",
    "    print(n)"
   ]
  },
  {
   "cell_type": "code",
   "execution_count": 3,
   "metadata": {},
   "outputs": [
    {
     "name": "stdout",
     "output_type": "stream",
     "text": [
      "enter n value14\n",
      "even number\n"
     ]
    }
   ],
   "source": [
    "#positive number\n",
    "n=int(input(\"enter n value\"))\n",
    "if n%2==0:\n",
    "    print(\"even number\")\n",
    "else:\n",
    "    print(\"odd number\")"
   ]
  },
  {
   "cell_type": "code",
   "execution_count": null,
   "metadata": {},
   "outputs": [],
   "source": []
  }
 ],
 "metadata": {
  "kernelspec": {
   "display_name": "Python 3",
   "language": "python",
   "name": "python3"
  },
  "language_info": {
   "codemirror_mode": {
    "name": "ipython",
    "version": 3
   },
   "file_extension": ".py",
   "mimetype": "text/x-python",
   "name": "python",
   "nbconvert_exporter": "python",
   "pygments_lexer": "ipython3",
   "version": "3.8.5"
  }
 },
 "nbformat": 4,
 "nbformat_minor": 4
}
