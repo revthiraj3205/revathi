{
 "cells": [
  {
   "cell_type": "code",
   "execution_count": null,
   "metadata": {},
   "outputs": [],
   "source": [
    "#loops\n",
    "*for\n",
    "*while"
   ]
  },
  {
   "cell_type": "code",
   "execution_count": null,
   "metadata": {},
   "outputs": [],
   "source": [
    "#syntax of for\n",
    "for i in range(arg):\n",
    "    \n",
    "for i in variable_name:(string format)"
   ]
  },
  {
   "cell_type": "code",
   "execution_count": 7,
   "metadata": {},
   "outputs": [
    {
     "name": "stdout",
     "output_type": "stream",
     "text": [
      "1\n",
      "2\n",
      "3\n",
      "4\n",
      "5\n",
      "6\n",
      "7\n",
      "8\n",
      "9\n",
      "10\n"
     ]
    }
   ],
   "source": [
    "#print 1st 10 numbers\n",
    "for i in range(1,11):\n",
    "  print(i)"
   ]
  },
  {
   "cell_type": "code",
   "execution_count": 8,
   "metadata": {},
   "outputs": [
    {
     "name": "stdout",
     "output_type": "stream",
     "text": [
      "0\n",
      "1\n",
      "2\n",
      "3\n",
      "4\n",
      "5\n",
      "6\n",
      "7\n",
      "8\n",
      "9\n"
     ]
    }
   ],
   "source": [
    "for i in range(10):\n",
    "    print(i)"
   ]
  },
  {
   "cell_type": "code",
   "execution_count": 9,
   "metadata": {},
   "outputs": [
    {
     "name": "stdout",
     "output_type": "stream",
     "text": [
      "1\n",
      "3\n",
      "5\n",
      "7\n",
      "9\n"
     ]
    }
   ],
   "source": [
    "for i in range(1,11,2):#(2=step counter)\n",
    "    print(i)"
   ]
  },
  {
   "cell_type": "code",
   "execution_count": 16,
   "metadata": {},
   "outputs": [
    {
     "name": "stdout",
     "output_type": "stream",
     "text": [
      "enter value a1\n",
      "enter value b5\n",
      "2\n",
      "4\n"
     ]
    }
   ],
   "source": [
    "a=int(input(\"enter value a\"))\n",
    "b=int(input(\"enter value b\"))\n",
    "for i in range(a,b):\n",
    "    if (i%2==0):\n",
    "        print(i)\n",
    "        "
   ]
  },
  {
   "cell_type": "code",
   "execution_count": 2,
   "metadata": {},
   "outputs": [
    {
     "name": "stdout",
     "output_type": "stream",
     "text": [
      "enter value a1\n",
      "enter value b10\n",
      "2 4 6 8 "
     ]
    }
   ],
   "source": [
    "a=int(input(\"enter value a\"))\n",
    "b=int(input(\"enter value b\"))\n",
    "for i in range(a,b):\n",
    "    if (i%2==0):\n",
    "        print(i,end=' ')"
   ]
  },
  {
   "cell_type": "code",
   "execution_count": 3,
   "metadata": {},
   "outputs": [
    {
     "name": "stdout",
     "output_type": "stream",
     "text": [
      "Enter number15\n",
      "Sum of first  15 numbers is:  120\n",
      "Average of  15 numbers is:  8.0\n"
     ]
    }
   ],
   "source": [
    "#print n natural numbers and average of that number\n",
    "n = int(input(\"Enter number\"))\n",
    "sum = 0\n",
    "# loop from 1 to n\n",
    "for num in range(1, n + 1, 1):\n",
    "    sum = sum + num\n",
    "print(\"Sum of first \", n, \"numbers is: \", sum)\n",
    "average = sum / n\n",
    "print(\"Average of \", n, \"numbers is: \", average)"
   ]
  },
  {
   "cell_type": "code",
   "execution_count": 8,
   "metadata": {},
   "outputs": [
    {
     "name": "stdout",
     "output_type": "stream",
     "text": [
      "2\n",
      "5\n",
      "sum is: 14\n",
      "average is: 3.5\n"
     ]
    }
   ],
   "source": [
    "a=int(input())\n",
    "b=int(input())\n",
    "sum=0\n",
    "count=0\n",
    "for i in range(a,b+1):\n",
    "    count=count+1\n",
    "    sum=sum+i\n",
    "print(\"sum is:\",sum)\n",
    "print(\"average is:\",sum/count)"
   ]
  },
  {
   "cell_type": "code",
   "execution_count": 9,
   "metadata": {},
   "outputs": [
    {
     "name": "stdout",
     "output_type": "stream",
     "text": [
      "2\n",
      "5\n",
      "sum is: 6\n",
      "average is: 3.0\n"
     ]
    }
   ],
   "source": [
    "#for even numbers\n",
    "a=int(input())\n",
    "b=int(input())\n",
    "sum=0\n",
    "count=0\n",
    "for i in range(a,b+1):\n",
    "    if(i%2==0):\n",
    "        count=count+1\n",
    "        sum=sum+i\n",
    "print(\"sum is:\",sum)\n",
    "print(\"average is:\",sum/count)"
   ]
  },
  {
   "cell_type": "code",
   "execution_count": 2,
   "metadata": {},
   "outputs": [
    {
     "name": "stdout",
     "output_type": "stream",
     "text": [
      "2\n",
      "4\n",
      "sum is: 5\n",
      "average is: 2.5\n"
     ]
    }
   ],
   "source": [
    "a=input()\n",
    "b=input()\n",
    "sum=0\n",
    "count=0\n",
    "for i in range(int(a),int(b)):\n",
    "    count=count+1\n",
    "    sum=sum+int(i)\n",
    "print(\"sum is:\",sum)\n",
    "print(\"average is:\",sum/count)"
   ]
  },
  {
   "cell_type": "code",
   "execution_count": 2,
   "metadata": {},
   "outputs": [
    {
     "name": "stdout",
     "output_type": "stream",
     "text": [
      "4\n",
      "24\n"
     ]
    }
   ],
   "source": [
    "#factorial of numbers\n",
    "n=int(input())\n",
    "fact=1\n",
    "for i in range(1,n+1):\n",
    "    fact=fact*i\n",
    "print(fact)\n"
   ]
  },
  {
   "cell_type": "code",
   "execution_count": 32,
   "metadata": {},
   "outputs": [
    {
     "name": "stdout",
     "output_type": "stream",
     "text": [
      "8\n",
      "8 num is not prime\n"
     ]
    }
   ],
   "source": [
    "#check given no is prime or not\n",
    "n=int(input())\n",
    "if n>1:\n",
    "    for i in range(2,int(n/2)+1) :\n",
    "        if(n%i)==0:\n",
    "            print(n,\"num is not prime\")\n",
    "            break\n",
    "        else:\n",
    "            print(n,\"num is prime\")\n",
    "else:\n",
    "    print(n,\"not a prime\")"
   ]
  },
  {
   "cell_type": "code",
   "execution_count": 33,
   "metadata": {},
   "outputs": [
    {
     "name": "stdout",
     "output_type": "stream",
     "text": [
      "9\n",
      "9 not a perfect prime\n"
     ]
    }
   ],
   "source": [
    "#check the given no is perfect number \n",
    "n=int(input())\n",
    "sum=0\n",
    "for i in range(1,n):\n",
    "    if(n%i)==0:\n",
    "        sum=sum+i\n",
    "if sum==n:\n",
    "    print(n,\"perfect number\")\n",
    "else:\n",
    "    print(n,\"not a perfect prime\")"
   ]
  },
  {
   "cell_type": "code",
   "execution_count": 27,
   "metadata": {},
   "outputs": [
    {
     "name": "stdout",
     "output_type": "stream",
     "text": [
      "5\n",
      "120\n"
     ]
    }
   ],
   "source": [
    "n=int(input())\n",
    "sum=0\n",
    "for i in range(1,n):\n",
    "    if(n%i)==0:\n",
    "        sum=sum+i\n",
    "if sum==n:\n",
    "    print(n,\"perfect number\")\n",
    "else:\n",
    "    if(n%i)!=0:\n",
    "        fact=1\n",
    "        for i in range(1,n+1):\n",
    "            fact=fact*i\n",
    "print(fact)"
   ]
  },
  {
   "cell_type": "code",
   "execution_count": 25,
   "metadata": {},
   "outputs": [
    {
     "name": "stdout",
     "output_type": "stream",
     "text": [
      "6\n",
      "6 * 1 = 6\n",
      "6 * 2 = 12\n",
      "6 * 3 = 18\n",
      "6 * 4 = 24\n",
      "6 * 5 = 30\n",
      "6 * 6 = 36\n",
      "6 * 7 = 42\n",
      "6 * 8 = 48\n",
      "6 * 9 = 54\n",
      "6 * 10 = 60\n"
     ]
    }
   ],
   "source": [
    "#multiplication\n",
    "n=int(input())\n",
    "for i in range(1,11):\n",
    "    print(n,'*',i, '=', n*i)"
   ]
  },
  {
   "cell_type": "code",
   "execution_count": null,
   "metadata": {},
   "outputs": [],
   "source": [
    "#jumping statements\n",
    "*break\n",
    "*continue"
   ]
  },
  {
   "cell_type": "code",
   "execution_count": 28,
   "metadata": {},
   "outputs": [
    {
     "name": "stdout",
     "output_type": "stream",
     "text": [
      "5\n",
      "1\n",
      "2\n",
      "3\n",
      "4\n"
     ]
    }
   ],
   "source": [
    "n=int(input())\n",
    "for i in range(1,n+1):\n",
    "    if i==5:\n",
    "        continue\n",
    "    print(i)"
   ]
  },
  {
   "cell_type": "code",
   "execution_count": 30,
   "metadata": {},
   "outputs": [
    {
     "name": "stdout",
     "output_type": "stream",
     "text": [
      "9\n",
      "1\n",
      "2\n",
      "3\n",
      "4\n",
      "5\n"
     ]
    }
   ],
   "source": [
    "n=int(input())\n",
    "for i in range(1,n+1):\n",
    "    print(i)\n",
    "    if i==5:\n",
    "        break\n",
    "    "
   ]
  },
  {
   "cell_type": "code",
   "execution_count": 34,
   "metadata": {},
   "outputs": [
    {
     "name": "stdout",
     "output_type": "stream",
     "text": [
      "1\n",
      "2\n",
      "3\n",
      "no\n"
     ]
    }
   ],
   "source": [
    "for i in range(1,4):\n",
    "    print(i)\n",
    "else:\n",
    "    print(\"no\")"
   ]
  },
  {
   "cell_type": "code",
   "execution_count": null,
   "metadata": {},
   "outputs": [],
   "source": [
    "#ascci values\n",
    "1.ord()-->parameter is string value(character)\n",
    "2.chr()-->caluclating character from the assci value(parameter is num)"
   ]
  },
  {
   "cell_type": "code",
   "execution_count": 4,
   "metadata": {},
   "outputs": [
    {
     "name": "stdout",
     "output_type": "stream",
     "text": [
      "104\n",
      "114\n",
      "50\n"
     ]
    }
   ],
   "source": [
    "print(ord('h'))\n",
    "print(ord('r'))\n",
    "print(ord('2'))"
   ]
  },
  {
   "cell_type": "code",
   "execution_count": 6,
   "metadata": {},
   "outputs": [
    {
     "name": "stdout",
     "output_type": "stream",
     "text": [
      "A\n"
     ]
    }
   ],
   "source": [
    "print(chr(65))"
   ]
  },
  {
   "cell_type": "code",
   "execution_count": 9,
   "metadata": {},
   "outputs": [
    {
     "name": "stdout",
     "output_type": "stream",
     "text": [
      "revathi\n",
      "harini\n",
      "114\n",
      "101\n",
      "118\n",
      "97\n",
      "116\n",
      "104\n",
      "105\n"
     ]
    }
   ],
   "source": [
    "#print ascii value of a character from given str\n",
    "name=input()\n",
    "name2=input()\n",
    "for i in name:\n",
    "    print(ord(i))"
   ]
  },
  {
   "cell_type": "code",
   "execution_count": 12,
   "metadata": {},
   "outputs": [
    {
     "name": "stdout",
     "output_type": "stream",
     "text": [
      "revathi\n",
      "114\n",
      "118\n",
      "116\n",
      "104\n"
     ]
    }
   ],
   "source": [
    "#print only even ascii values\n",
    "name=input()\n",
    "for i in name:\n",
    "    if(ord(i)%2==0):\n",
    "        print(ord(i))"
   ]
  },
  {
   "cell_type": "code",
   "execution_count": 42,
   "metadata": {},
   "outputs": [
    {
     "name": "stdout",
     "output_type": "stream",
     "text": [
      "revathi\n",
      "r ÿ v ë t h ē "
     ]
    }
   ],
   "source": [
    "n=input()\n",
    "for i in n:\n",
    "    if(ord(i)%2==0):\n",
    "        print(i,end=' ')\n",
    "    else:\n",
    "        n=ord(i)\n",
    "        #print(i)\n",
    "        n1=ord(i)*ord(i)\n",
    "        n2=n1/40\n",
    "        print(chr(int(n2)),end=' ')"
   ]
  },
  {
   "cell_type": "code",
   "execution_count": 40,
   "metadata": {},
   "outputs": [
    {
     "data": {
      "text/plain": [
       "235.225"
      ]
     },
     "execution_count": 40,
     "metadata": {},
     "output_type": "execute_result"
    }
   ],
   "source": [
    "(ord('a')*ord('a'))/40"
   ]
  },
  {
   "cell_type": "code",
   "execution_count": 38,
   "metadata": {},
   "outputs": [
    {
     "data": {
      "text/plain": [
       "4.85"
      ]
     },
     "execution_count": 38,
     "metadata": {},
     "output_type": "execute_result"
    }
   ],
   "source": [
    "(97*2)/40"
   ]
  },
  {
   "cell_type": "code",
   "execution_count": 39,
   "metadata": {},
   "outputs": [
    {
     "data": {
      "text/plain": [
       "'\\x04'"
      ]
     },
     "execution_count": 39,
     "metadata": {},
     "output_type": "execute_result"
    }
   ],
   "source": [
    "chr(4)"
   ]
  },
  {
   "cell_type": "code",
   "execution_count": 41,
   "metadata": {},
   "outputs": [
    {
     "data": {
      "text/plain": [
       "'ë'"
      ]
     },
     "execution_count": 41,
     "metadata": {},
     "output_type": "execute_result"
    }
   ],
   "source": [
    "chr(235)"
   ]
  },
  {
   "cell_type": "code",
   "execution_count": null,
   "metadata": {},
   "outputs": [],
   "source": [
    "#while loop(syntax)\n",
    "while condition:\n",
    "    body of while loop"
   ]
  },
  {
   "cell_type": "code",
   "execution_count": 1,
   "metadata": {},
   "outputs": [
    {
     "name": "stdout",
     "output_type": "stream",
     "text": [
      "1\n",
      "2\n",
      "3\n",
      "4\n",
      "5\n",
      "6\n",
      "7\n",
      "8\n",
      "9\n"
     ]
    }
   ],
   "source": [
    "i=1\n",
    "while i<10:\n",
    "    print(i)\n",
    "    i=i+1"
   ]
  },
  {
   "cell_type": "code",
   "execution_count": 2,
   "metadata": {},
   "outputs": [
    {
     "name": "stdout",
     "output_type": "stream",
     "text": [
      "2 4 6 8 "
     ]
    }
   ],
   "source": [
    "#print even numbers\n",
    "i=1\n",
    "while i<10:\n",
    "    if i%2==0:\n",
    "        print(i,end=' ')\n",
    "    i=i+1"
   ]
  },
  {
   "cell_type": "code",
   "execution_count": 3,
   "metadata": {},
   "outputs": [
    {
     "name": "stdout",
     "output_type": "stream",
     "text": [
      "1 3 5 7 9 "
     ]
    }
   ],
   "source": [
    "#print odd numbers\n",
    "i=1\n",
    "while i<10:\n",
    "    if i%2!=0:\n",
    "        print(i,end=' ')\n",
    "    i=i+1"
   ]
  },
  {
   "cell_type": "markdown",
   "metadata": {},
   "source": [
    "# functions\n",
    "(a block of atatements/aet of statements to perform particular tasks in fuctions)\n",
    "#types of functions\n",
    "1.Built in fuctions\n",
    " *max-->for caluclate max value\n",
    " min-->''''''''''''''min'''''''\n",
    " sum-->''''''''''''''sum'''''''\n",
    " len-->''''''''''''''length''''\n",
    " ord\n",
    " char\n",
    " abs-->''''''''''''''absolut value'''\n",
    "2.USER DEFINE\n",
    "  *uf is a function which is defined by the user to perform particular task\n",
    "  1. Required arg\n",
    "  2. Default arg\n",
    "  3. Keyword arg\n",
    "  4. Variable length\n",
    "### syntax of functions\n",
    "def function_name(arg):#function declaration\n",
    "     body of function\n",
    " function_name()#function calling\n",
    "\n"
   ]
  },
  {
   "cell_type": "code",
   "execution_count": 4,
   "metadata": {},
   "outputs": [
    {
     "name": "stdout",
     "output_type": "stream",
     "text": [
      "revathi\n",
      "welcome revathi\n"
     ]
    }
   ],
   "source": [
    "n=input()\n",
    "def fun():\n",
    "    print(\"welcome\",n)\n",
    "fun()"
   ]
  },
  {
   "cell_type": "code",
   "execution_count": 5,
   "metadata": {},
   "outputs": [
    {
     "name": "stdout",
     "output_type": "stream",
     "text": [
      "2\n",
      "3\n",
      "multiplication of 2 and 3 is 6\n"
     ]
    }
   ],
   "source": [
    "def local():\n",
    "    a=int(input())\n",
    "    b=int(input())\n",
    "    print(\"multiplication of\",a,\"and\",b,\"is\",a*b)\n",
    "local()"
   ]
  },
  {
   "cell_type": "code",
   "execution_count": 6,
   "metadata": {},
   "outputs": [
    {
     "name": "stdout",
     "output_type": "stream",
     "text": [
      "2\n",
      "3\n",
      "multiplication of 2 and 3 is 6\n"
     ]
    }
   ],
   "source": [
    "def fun():\n",
    "    a=int(input())\n",
    "    b=int(input())\n",
    "    print(\"multiplication of\",a,\"and\",b,\"is\",a*b)\n",
    "fun()"
   ]
  },
  {
   "cell_type": "code",
   "execution_count": 12,
   "metadata": {},
   "outputs": [
    {
     "name": "stdout",
     "output_type": "stream",
     "text": [
      "1\n",
      "2\n",
      "multiplication of 1 and 2 is 2\n"
     ]
    }
   ],
   "source": [
    "def f():\n",
    "    a=int(input())\n",
    "    b=int(input())\n",
    "    print(\"multiplication of\",a,\"and\",b,\"is\",a*b)\n",
    "f()\n",
    "def global1():\n",
    "    global1()\n",
    "    n=int(input())\n",
    "    print(n)\n"
   ]
  },
  {
   "cell_type": "code",
   "execution_count": 3,
   "metadata": {},
   "outputs": [
    {
     "name": "stdout",
     "output_type": "stream",
     "text": [
      "2\n",
      "3\n",
      "6\n"
     ]
    }
   ],
   "source": [
    "a=int(input())\n",
    "def global1():\n",
    "    n=int(input())\n",
    "    print(a*n)\n",
    "global1()\n"
   ]
  },
  {
   "cell_type": "code",
   "execution_count": 4,
   "metadata": {},
   "outputs": [
    {
     "name": "stdout",
     "output_type": "stream",
     "text": [
      "5\n",
      "1\n",
      "2\n",
      "6\n",
      "24\n",
      "120\n"
     ]
    }
   ],
   "source": [
    "n=int(input())\n",
    "def task():\n",
    "    fact=1\n",
    "    for i in range(1,n+1):\n",
    "        fact=fact*i\n",
    "        print(fact)\n",
    "task()\n"
   ]
  },
  {
   "cell_type": "code",
   "execution_count": 7,
   "metadata": {},
   "outputs": [
    {
     "name": "stdout",
     "output_type": "stream",
     "text": [
      "5\n",
      "120\n",
      "120\n",
      "120\n"
     ]
    }
   ],
   "source": [
    "n=int(input())\n",
    "def task():\n",
    "    sum=0\n",
    "    for i in range(1,n):\n",
    "        if(n%i)==0:\n",
    "            sum=sum+i\n",
    "        if sum==n:\n",
    "                print(n,\"perfect number\")\n",
    "        else:\n",
    "            if(n%i)!=0:\n",
    "                fact=1\n",
    "                for i in range(1,n+1):\n",
    "                    fact=fact*i\n",
    "                print(fact)\n",
    "task()"
   ]
  },
  {
   "cell_type": "code",
   "execution_count": 9,
   "metadata": {},
   "outputs": [
    {
     "name": "stdout",
     "output_type": "stream",
     "text": [
      "add is 15\n",
      "mul is 60\n",
      "sub is 1\n"
     ]
    }
   ],
   "source": [
    "#default arg\n",
    "def default(a,b,c=10):\n",
    "    print(\"add is\",a+b+c)\n",
    "    print(\"mul is\",a*b*c)\n",
    "    print(\"sub is\",a-b)\n",
    "default(3,2)"
   ]
  },
  {
   "cell_type": "code",
   "execution_count": 10,
   "metadata": {},
   "outputs": [
    {
     "name": "stdout",
     "output_type": "stream",
     "text": [
      "name is: revathiharini\n",
      "username: jaan\n"
     ]
    }
   ],
   "source": [
    "#keyword\n",
    "def keyword(fname,lname,uname):\n",
    "    print(\"name is:\",fname+lname)\n",
    "    print(\"username:\",uname)\n",
    "keyword('revathi','harini','jaan')"
   ]
  },
  {
   "cell_type": "code",
   "execution_count": 11,
   "metadata": {},
   "outputs": [
    {
     "name": "stdout",
     "output_type": "stream",
     "text": [
      "name is: harinijaan\n",
      "username: revathi\n"
     ]
    }
   ],
   "source": [
    "def keyword(fname,lname,uname):\n",
    "    print(\"name is:\",fname+lname)\n",
    "    print(\"username:\",uname)\n",
    "keyword(uname='revathi',fname='harini',lname='jaan')"
   ]
  },
  {
   "cell_type": "code",
   "execution_count": null,
   "metadata": {},
   "outputs": [],
   "source": []
  }
 ],
 "metadata": {
  "kernelspec": {
   "display_name": "Python 3",
   "language": "python",
   "name": "python3"
  },
  "language_info": {
   "codemirror_mode": {
    "name": "ipython",
    "version": 3
   },
   "file_extension": ".py",
   "mimetype": "text/x-python",
   "name": "python",
   "nbconvert_exporter": "python",
   "pygments_lexer": "ipython3",
   "version": "3.8.5"
  }
 },
 "nbformat": 4,
 "nbformat_minor": 4
}
